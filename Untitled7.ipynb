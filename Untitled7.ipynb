{
  "nbformat": 4,
  "nbformat_minor": 0,
  "metadata": {
    "colab": {
      "name": "Untitled7.ipynb",
      "provenance": [],
      "mount_file_id": "1V7pWbSZopfR-6C4799i42jn5epGejUFP",
      "authorship_tag": "ABX9TyMuog7n8oUXfgMOAVD7NvPN",
      "include_colab_link": true
    },
    "kernelspec": {
      "name": "python3",
      "display_name": "Python 3"
    },
    "language_info": {
      "name": "python"
    }
  },
  "cells": [
    {
      "cell_type": "markdown",
      "metadata": {
        "id": "view-in-github",
        "colab_type": "text"
      },
      "source": [
        "<a href=\"https://colab.research.google.com/github/freecopyA4/-2/blob/main/Untitled7.ipynb\" target=\"_parent\"><img src=\"https://colab.research.google.com/assets/colab-badge.svg\" alt=\"Open In Colab\"/></a>"
      ]
    },
    {
      "cell_type": "code",
      "execution_count": 27,
      "metadata": {
        "id": "rEbw7DnR6bX0",
        "colab": {
          "base_uri": "https://localhost:8080/"
        },
        "outputId": "e44475e4-05f9-40a9-8ac2-fa8cb07d987b"
      },
      "outputs": [
        {
          "output_type": "execute_result",
          "data": {
            "text/plain": [
              "nutrient\n",
              "Alanine                           Gelatins, dry powder, unsweetened\n",
              "Arginine                               Seeds, sesame flour, low-fat\n",
              "Aspartic acid                                   Soy protein isolate\n",
              "Cystine                Seeds, cottonseed flour, low fat (glandless)\n",
              "Glutamic acid                                   Soy protein isolate\n",
              "Glycine                           Gelatins, dry powder, unsweetened\n",
              "Histidine                Whale, beluga, meat, dried (Alaska Native)\n",
              "Hydroxyproline    KENTUCKY FRIED CHICKEN, Fried Chicken, ORIGINA...\n",
              "Isoleucine        Soy protein isolate, PROTEIN TECHNOLOGIES INTE...\n",
              "Leucine           Soy protein isolate, PROTEIN TECHNOLOGIES INTE...\n",
              "Lysine            Seal, bearded (Oogruk), meat, dried (Alaska Na...\n",
              "Methionine                    Fish, cod, Atlantic, dried and salted\n",
              "Phenylalanine     Soy protein isolate, PROTEIN TECHNOLOGIES INTE...\n",
              "Proline                           Gelatins, dry powder, unsweetened\n",
              "Serine            Soy protein isolate, PROTEIN TECHNOLOGIES INTE...\n",
              "Threonine         Soy protein isolate, PROTEIN TECHNOLOGIES INTE...\n",
              "Tryptophan         Sea lion, Steller, meat with fat (Alaska Native)\n",
              "Tyrosine          Soy protein isolate, PROTEIN TECHNOLOGIES INTE...\n",
              "Valine            Soy protein isolate, PROTEIN TECHNOLOGIES INTE...\n",
              "Name: food, dtype: object"
            ]
          },
          "metadata": {},
          "execution_count": 27
        }
      ],
      "source": [
        "import json\n",
        "import pandas as pd\n",
        "import numpy as np\n",
        "from pandas import Series, DataFrame\n",
        "\n",
        "\n",
        "\n",
        "db = json.load(open('/content/drive/MyDrive/1.2/ch07/foods-2011-10-03.json'))\n",
        "# len(db)\n",
        "\n",
        "# db[0].keys()\n",
        "# db[0]['nutrients'][0]\n",
        "\n",
        "# nutrients = DataFrame(db[0]['nutrients'])\n",
        "# nutrients[:7]\n",
        "\n",
        "info_keys = ['description', 'group', 'id', 'manufacturer']\n",
        "info = DataFrame(db, columns=info_keys)\n",
        "# info[:5]\n",
        "# info.info()\n",
        "\n",
        "# pd.value_counts(info.group)[:10]\n",
        "\n",
        "nutrients = []\n",
        "\n",
        "for rec in db:\n",
        "  fnuts = DataFrame(rec['nutrients'])\n",
        "  fnuts['id'] = rec['id']\n",
        "  nutrients.append(fnuts)\n",
        "\n",
        "nutrients = pd.concat(nutrients, ignore_index=True)\n",
        "\n",
        "# nutrients\n",
        "\n",
        "nutrients.duplicated().sum()\n",
        "nutrients = nutrients.drop_duplicates()\n",
        "\n",
        "col_mapping = {'description' : 'food',\n",
        "               'group' : 'fgroup' }\n",
        "\n",
        "info = info.rename(columns=col_mapping, copy=False)\n",
        "# info.info()\n",
        "\n",
        "col_mapping = {'description' : 'nutrient',\n",
        "               'group' : 'nutgroup' }\n",
        "\n",
        "nutrients = nutrients.rename(columns=col_mapping, copy=False)\n",
        "# nutrients\n",
        "\n",
        "ndata = pd.merge(nutrients, info, on='id', how='outer')\n",
        "# ndata.info()\n",
        "# ndata.loc[3000]\n",
        "\n",
        "# result = ndata.groupby(['nutrient', 'fgroup'])['value'].quantile(0.5)\n",
        "# result['Zinc, Zn'].sort_values().plot(kind='barh')\n",
        "\n",
        "by_nutrient = ndata.groupby(['nutgroup', 'nutrient'])\n",
        "\n",
        "get_maximum = lambda x: x.xs(x.value.idxmax())\n",
        "get_minimum = lambda x: x.xs(x.value.idxmin())\n",
        "\n",
        "max_foods = by_nutrient.apply(get_maximum)[['value', 'food']]\n",
        "max_foods.food = max_foods.food.str[:50]\n",
        "\n",
        "max_foods.loc['Amino Acids']['food']"
      ]
    }
  ]
}