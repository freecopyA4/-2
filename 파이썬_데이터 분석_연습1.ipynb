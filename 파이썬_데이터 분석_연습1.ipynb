{
 "cells": [
  {
   "cell_type": "markdown",
   "metadata": {},
   "source": [
    "1.영화 평균\n",
    " "
   ]
  },
  {
   "cell_type": "code",
   "execution_count": null,
   "metadata": {},
   "outputs": [],
   "source": [
    "\n",
    "\n",
    "import pandas as pd\n",
    "import os\n",
    "encoding = 'latin1'\n",
    "\n",
    "upath = os.path.expanduser('C:/Users/noctu/Desktop/1/1.2/ch02/movielens/users.dat')\n",
    "rpath = os.path.expanduser('C:/Users/noctu/Desktop/1/1.2/ch02/movielens/ratings.dat')\n",
    "mpath = os.path.expanduser('C:/Users/noctu/Desktop/1/1.2/ch02/movielens/movies.dat')\n",
    "\n",
    "unames = ['user_id', 'gender', 'age', 'occupation', 'zip']\n",
    "rnames = ['user_id', 'movie_id', 'rating', 'timestamp']\n",
    "mnames = ['movie_id', 'title', 'genres']\n",
    "\n",
    "users = pd.read_csv(upath, sep='::', header=None, names=unames, encoding=encoding)\n",
    "ratings = pd.read_csv(rpath, sep='::', header=None, names=rnames, encoding=encoding)\n",
    "movies = pd.read_csv(mpath, sep='::', header=None, names=mnames, encoding=encoding )\n",
    "\n",
    "data = pd.merge(pd.merge(ratings, users), movies)\n",
    "data\n",
    "\n",
    "mean_ratings = mean_ratings = data.pivot_table('rating', index='title',\n",
    "                                               columns='gender', aggfunc='mean')\n",
    "mean_ratings[:5]\n",
    "\n",
    "ratings_by_title = data.groupby('title').size()\n",
    "ratings_by_title[:10]\n",
    "\n",
    "active_titles = ratings_by_title.index[ratings_by_title >= 250]\n",
    "active_titles\n",
    "\n",
    "mean_ratings = mean_ratings.loc[active_titles]\n",
    "mean_ratings\n",
    "\n",
    "top_female_ratings = mean_ratings.sort_index(ascending=False)  #by='F'\n",
    "top_female_ratings[:10]\n",
    "\n",
    "mean_ratings['diff'] = mean_ratings['M'] - mean_ratings['F']\n",
    "sorted_by_diff = mean_ratings.sort_values()  #by='diff'\n",
    "sorted_by_diff[:15]\n",
    "\n",
    "sorted_by_diff[::-1][:15]"
   ]
  },
  {
   "cell_type": "markdown",
   "metadata": {},
   "source": [
    "2\n"
   ]
  },
  {
   "cell_type": "code",
   "execution_count": 35,
   "metadata": {},
   "outputs": [
    {
     "data": {
      "text/plain": [
       "<AxesSubplot:title={'center':'Number of popular names in top 50%'}, xlabel='year'>"
      ]
     },
     "execution_count": 35,
     "metadata": {},
     "output_type": "execute_result"
    },
    {
     "data": {
      "image/png": "[encoded data removed]",
      "text/plain": [
       "<Figure size 432x288 with 1 Axes>"
      ]
     },
     "metadata": {
      "needs_background": "light"
     },
     "output_type": "display_data"
    }
   ],
   "source": [
    "import numpy as np\n",
    "import pandas as pd\n",
    "\n",
    "names1880 = pd.read_csv('C:/Users/noctu/Desktop/1/1.2/ch02/names/yob1880.txt',\n",
    "                        names = ['names', 'sex', 'births'])\n",
    "\n",
    "names1880.groupby('sex').births.sum()\n",
    "\n",
    "years = range(1880, 2011)\n",
    "\n",
    "pieces = []\n",
    "columns = ['names', 'sex', 'births']\n",
    "\n",
    "for year in years:\n",
    "    path = 'C:/Users/noctu/Desktop/1/1.2/ch02/names/yob%d.txt' % year\n",
    "    frame = pd.read_csv(path, names=columns)\n",
    "    \n",
    "    frame['year'] = year\n",
    "    pieces.append(frame)\n",
    "    \n",
    "names = pd.concat(pieces, ignore_index=True) \n",
    "\n",
    "total_births = names.pivot_table('births', index='year',\n",
    "                                 columns='sex', aggfunc=sum)\n",
    "total_births.tail()\n",
    "\n",
    "# total_births.plot(title='Total briths by sex and year')\n",
    "\n",
    "def add_prop(group):\n",
    "    births = group.births.astype(float)\n",
    "    group['prop'] = births / births.sum()\n",
    "    return group\n",
    "names = names.groupby(['year', 'sex']).apply(add_prop)\n",
    "\n",
    "np.allclose(names.groupby(['year', 'sex']).prop.sum(), 1)\n",
    "\n",
    "def get_top1000(group):\n",
    "    return group.sort_values(by='births', ascending=False)[:1000]\n",
    "\n",
    "grouped = names.groupby(['year', 'sex'])\n",
    "top1000 = grouped.apply(get_top1000)\n",
    "top1000.index = np.arange(len(top1000))\n",
    "\n",
    "pieces = []\n",
    "for year, group in names.groupby(['year', 'sex']):\n",
    "    pieces.append(group.sort_values(by='births', ascending=False)[:1000])\n",
    "top1000 = pd.concat(pieces, ignore_index=True)\n",
    "\n",
    "# top1000\n",
    "\n",
    "boys = top1000[top1000.sex == 'M']\n",
    "girls = top1000[top1000.sex == 'F']\n",
    "\n",
    "total_births = top1000.pivot_table('births', index='year',\n",
    "                                 columns='names', aggfunc=sum)\n",
    "\n",
    "# total_births.info()\n",
    "\n",
    "subset = total_births[['John', 'Harry', 'Mary', 'Marilyn']]\n",
    "\n",
    "# subset.plot(subplots=True, figsize=(12, 10), grid=False,\n",
    "#             title=\"Number of births per year\")\n",
    "\n",
    "table = top1000.pivot_table('prop', index='year',\n",
    "                            columns= 'sex', aggfunc=sum)\n",
    "\n",
    "# table.plot(title='Sum of top1000.prop by year  and sex',\n",
    "#            yticks=np.linspace(0, 1.2, 13), xticks=range(1880, 2020, 10))\n",
    "\n",
    "# df = boys[boys.year == 2010]\n",
    "# df\n",
    "# prop_cumsum = df.sort_values(by='prop', ascending=False).prop.cumsum()\n",
    "# prop_cumsum[:10]\n",
    "# prop_cumsum.values.searchsorted(0.5)\n",
    "\n",
    "\n",
    "df = boys[boys.year == 1900]\n",
    "in1900 = df.sort_values(by='prop', ascending=False).prop.cumsum()\n",
    "# in1900.searchsorted(0.5) + 1\n",
    "\n",
    "def get_quantitle_count(group, q=0.5):\n",
    "    group = group.sort_values(by='prop', ascending=False)\n",
    "    return group.prop.cumsum().values.searchsorted(q) + 1\n",
    "diversity = top1000.groupby(['year', 'sex']).apply(get_quantitle_count)\n",
    "diversity = diversity.unstack('sex')\n",
    "\n",
    "diversity.head()\n",
    "\n",
    "diversity.plot(title=\"Number of popular names in top 50%\")"
   ]
  }
 ],
 "metadata": {
  "interpreter": {
   "hash": "97e354f0cdccdcfe53b1703901d26b2100919c25493c36c52dd5015210378920"
  },
  "kernelspec": {
   "display_name": "Python 3.9.10 64-bit (windows store)",
   "language": "python",
   "name": "python3"
  },
  "language_info": {
   "codemirror_mode": {
    "name": "ipython",
    "version": 3
   },
   "file_extension": ".py",
   "mimetype": "text/x-python",
   "name": "python",
   "nbconvert_exporter": "python",
   "pygments_lexer": "ipython3",
   "version": "3.9.10"
  },
  "orig_nbformat": 4
 },
 "nbformat": 4,
 "nbformat_minor": 2
}
